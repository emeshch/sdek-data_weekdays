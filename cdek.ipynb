{
 "cells": [
  {
   "cell_type": "code",
   "execution_count": 1,
   "id": "11aaf3cf",
   "metadata": {},
   "outputs": [],
   "source": [
    "import pandas as pd\n",
    "import seaborn as sns\n",
    "import calmap\n",
    "import matplotlib.pyplot as plt"
   ]
  },
  {
   "cell_type": "code",
   "execution_count": 2,
   "id": "41c2663d",
   "metadata": {},
   "outputs": [
    {
     "data": {
      "text/html": [
       "<div>\n",
       "<style scoped>\n",
       "    .dataframe tbody tr th:only-of-type {\n",
       "        vertical-align: middle;\n",
       "    }\n",
       "\n",
       "    .dataframe tbody tr th {\n",
       "        vertical-align: top;\n",
       "    }\n",
       "\n",
       "    .dataframe thead th {\n",
       "        text-align: right;\n",
       "    }\n",
       "</style>\n",
       "<table border=\"1\" class=\"dataframe\">\n",
       "  <thead>\n",
       "    <tr style=\"text-align: right;\">\n",
       "      <th></th>\n",
       "      <th>orderNumber</th>\n",
       "      <th>cityFrom</th>\n",
       "      <th>cityTo</th>\n",
       "      <th>orderDate</th>\n",
       "      <th>weight</th>\n",
       "      <th>status</th>\n",
       "    </tr>\n",
       "  </thead>\n",
       "  <tbody>\n",
       "    <tr>\n",
       "      <th>0</th>\n",
       "      <td>1317629863</td>\n",
       "      <td>Джанкой</td>\n",
       "      <td>Арсеньев</td>\n",
       "      <td>2022-02-21</td>\n",
       "      <td>0,2</td>\n",
       "      <td>Вручен</td>\n",
       "    </tr>\n",
       "    <tr>\n",
       "      <th>1</th>\n",
       "      <td>1317637690</td>\n",
       "      <td>Калачинск</td>\n",
       "      <td>Москва</td>\n",
       "      <td>2022-02-21</td>\n",
       "      <td>2</td>\n",
       "      <td>Вручен</td>\n",
       "    </tr>\n",
       "    <tr>\n",
       "      <th>2</th>\n",
       "      <td>1317637989</td>\n",
       "      <td>Пинск, Брестская обл.</td>\n",
       "      <td>Новосибирск</td>\n",
       "      <td>2022-02-21</td>\n",
       "      <td>3,1</td>\n",
       "      <td>Вручен</td>\n",
       "    </tr>\n",
       "    <tr>\n",
       "      <th>3</th>\n",
       "      <td>1317643082</td>\n",
       "      <td>Новозыбков</td>\n",
       "      <td>Бологое</td>\n",
       "      <td>2022-02-21</td>\n",
       "      <td>0,8</td>\n",
       "      <td>Вручен</td>\n",
       "    </tr>\n",
       "    <tr>\n",
       "      <th>4</th>\n",
       "      <td>1317644111</td>\n",
       "      <td>Каменск-Шахтинский</td>\n",
       "      <td>Оренбург</td>\n",
       "      <td>2022-02-21</td>\n",
       "      <td>1,5</td>\n",
       "      <td>Вручен</td>\n",
       "    </tr>\n",
       "    <tr>\n",
       "      <th>...</th>\n",
       "      <td>...</td>\n",
       "      <td>...</td>\n",
       "      <td>...</td>\n",
       "      <td>...</td>\n",
       "      <td>...</td>\n",
       "      <td>...</td>\n",
       "    </tr>\n",
       "    <tr>\n",
       "      <th>66069</th>\n",
       "      <td>1336240833</td>\n",
       "      <td>Пинск, Брестская обл.</td>\n",
       "      <td>Ярославль</td>\n",
       "      <td>2022-05-20</td>\n",
       "      <td>0,85</td>\n",
       "      <td>Создан</td>\n",
       "    </tr>\n",
       "    <tr>\n",
       "      <th>66070</th>\n",
       "      <td>1336242703</td>\n",
       "      <td>Красный Сулин</td>\n",
       "      <td>Якутск</td>\n",
       "      <td>2022-05-20</td>\n",
       "      <td>1,3</td>\n",
       "      <td>В пути</td>\n",
       "    </tr>\n",
       "    <tr>\n",
       "      <th>66071</th>\n",
       "      <td>1336243254</td>\n",
       "      <td>Красный Сулин</td>\n",
       "      <td>Москва</td>\n",
       "      <td>2022-05-20</td>\n",
       "      <td>1</td>\n",
       "      <td>В пути</td>\n",
       "    </tr>\n",
       "    <tr>\n",
       "      <th>66072</th>\n",
       "      <td>1336246880</td>\n",
       "      <td>Каменск-Шахтинский</td>\n",
       "      <td>Санкт-Петербург</td>\n",
       "      <td>2022-05-20</td>\n",
       "      <td>0,5</td>\n",
       "      <td>Создан</td>\n",
       "    </tr>\n",
       "    <tr>\n",
       "      <th>66073</th>\n",
       "      <td>1336247734</td>\n",
       "      <td>Джанкой</td>\n",
       "      <td>Севастополь</td>\n",
       "      <td>2022-05-20</td>\n",
       "      <td>1</td>\n",
       "      <td>В пути</td>\n",
       "    </tr>\n",
       "  </tbody>\n",
       "</table>\n",
       "<p>66074 rows × 6 columns</p>\n",
       "</div>"
      ],
      "text/plain": [
       "       orderNumber               cityFrom           cityTo   orderDate weight  \\\n",
       "0       1317629863                Джанкой         Арсеньев  2022-02-21    0,2   \n",
       "1       1317637690              Калачинск           Москва  2022-02-21      2   \n",
       "2       1317637989  Пинск, Брестская обл.      Новосибирск  2022-02-21    3,1   \n",
       "3       1317643082             Новозыбков          Бологое  2022-02-21    0,8   \n",
       "4       1317644111     Каменск-Шахтинский         Оренбург  2022-02-21    1,5   \n",
       "...            ...                    ...              ...         ...    ...   \n",
       "66069   1336240833  Пинск, Брестская обл.        Ярославль  2022-05-20   0,85   \n",
       "66070   1336242703          Красный Сулин           Якутск  2022-05-20    1,3   \n",
       "66071   1336243254          Красный Сулин           Москва  2022-05-20      1   \n",
       "66072   1336246880     Каменск-Шахтинский  Санкт-Петербург  2022-05-20    0,5   \n",
       "66073   1336247734                Джанкой      Севастополь  2022-05-20      1   \n",
       "\n",
       "       status  \n",
       "0      Вручен  \n",
       "1      Вручен  \n",
       "2      Вручен  \n",
       "3      Вручен  \n",
       "4      Вручен  \n",
       "...       ...  \n",
       "66069  Создан  \n",
       "66070  В пути  \n",
       "66071  В пути  \n",
       "66072  Создан  \n",
       "66073  В пути  \n",
       "\n",
       "[66074 rows x 6 columns]"
      ]
     },
     "execution_count": 2,
     "metadata": {},
     "output_type": "execute_result"
    }
   ],
   "source": [
    "df = pd.read_csv('cdek_border_orders.csv', sep=';')\n",
    "df"
   ]
  },
  {
   "cell_type": "code",
   "execution_count": 3,
   "id": "d360fb03",
   "metadata": {},
   "outputs": [
    {
     "data": {
      "text/plain": [
       "0        0.20\n",
       "1        2.00\n",
       "2        3.10\n",
       "3        0.80\n",
       "4        1.50\n",
       "         ... \n",
       "66069    0.85\n",
       "66070    1.30\n",
       "66071    1.00\n",
       "66072    0.50\n",
       "66073    1.00\n",
       "Name: weight_num, Length: 66074, dtype: float64"
      ]
     },
     "execution_count": 3,
     "metadata": {},
     "output_type": "execute_result"
    }
   ],
   "source": [
    "df['weight_num'] = df.weight.apply(lambda x: float(x.replace(',', '.')))\n",
    "df.weight_num"
   ]
  },
  {
   "cell_type": "code",
   "execution_count": 4,
   "id": "7cd02425",
   "metadata": {},
   "outputs": [
    {
     "data": {
      "text/plain": [
       "(13, 60)"
      ]
     },
     "execution_count": 4,
     "metadata": {},
     "output_type": "execute_result"
    }
   ],
   "source": [
    "from_list = ['Армянск', 'Богучар', 'Валуйки', 'Джанкой', 'Железногорск', 'Климово', 'Клинцы', 'Мозырь', 'Новозыбков', 'Покровское', 'Россошь', 'Рыльск', 'Унеча']\n",
    "to_list = ['Абакан', 'Алейск', 'Ангарск', 'Арсеньев', 'Артем', 'Барнаул', 'Белогорск', 'Бердск', 'Березовский', 'Бийск', 'Биробиджан', 'Борзя', 'Буденновск', 'Буйнакск', 'Владивосток', 'Вольск', 'Грозный', 'Гудермес', 'Екатеринбург', 'Железногорск', 'Зеленогорск', 'Златоуст', 'Иваново', 'Искитим', 'Калининград', 'Камышлов', 'Каспийск', 'Кемерово', 'Красноярск', 'Кызыл', 'Кяхта', 'Махачкала', 'Миасс', 'Минеральные Воды', 'Михайловск', 'Невинномысск', 'Новосибирск', 'Омск', 'Оренбург', 'Остров', 'Парголово', 'Псков', 'Рубцовск', 'Самара', 'Североуральск', 'Тобольск', 'Тольятти', 'Топчиха', 'Тоцкое', 'Тула', 'Улан-Удэ', 'Ульяновск', 'Уссурийск', 'Хабаровск', 'Чебаркуль', 'Челябинск', 'Чита', 'Щекино', 'Юрга', 'Ярославль']\n",
    "len(from_list), len(to_list)\n"
   ]
  },
  {
   "cell_type": "code",
   "execution_count": 5,
   "id": "f475792b",
   "metadata": {},
   "outputs": [
    {
     "data": {
      "text/plain": [
       "count    66074.000000\n",
       "mean         5.278671\n",
       "std         13.088628\n",
       "min          0.001000\n",
       "25%          0.500000\n",
       "50%          1.500000\n",
       "75%          5.000000\n",
       "max        500.000000\n",
       "Name: weight_num, dtype: float64"
      ]
     },
     "execution_count": 5,
     "metadata": {},
     "output_type": "execute_result"
    }
   ],
   "source": [
    "df.weight_num.describe()"
   ]
  },
  {
   "cell_type": "code",
   "execution_count": 6,
   "id": "cfa05932",
   "metadata": {},
   "outputs": [],
   "source": [
    "df_filtered = df[(df.weight_num > 1) & (df.cityFrom.isin(from_list)) & (df.cityTo.isin(to_list))]"
   ]
  },
  {
   "cell_type": "code",
   "execution_count": 7,
   "id": "969d7400",
   "metadata": {},
   "outputs": [
    {
     "data": {
      "text/plain": [
       "count    2429.000000\n",
       "mean       15.487807\n",
       "std        19.519322\n",
       "min         1.020000\n",
       "25%         3.000000\n",
       "50%        10.000000\n",
       "75%        20.170000\n",
       "max       380.500000\n",
       "Name: weight_num, dtype: float64"
      ]
     },
     "execution_count": 7,
     "metadata": {},
     "output_type": "execute_result"
    }
   ],
   "source": [
    "df_filtered.weight_num.describe()"
   ]
  },
  {
   "cell_type": "code",
   "execution_count": 8,
   "id": "c62f1272",
   "metadata": {},
   "outputs": [
    {
     "data": {
      "text/html": [
       "<div>\n",
       "<style scoped>\n",
       "    .dataframe tbody tr th:only-of-type {\n",
       "        vertical-align: middle;\n",
       "    }\n",
       "\n",
       "    .dataframe tbody tr th {\n",
       "        vertical-align: top;\n",
       "    }\n",
       "\n",
       "    .dataframe thead th {\n",
       "        text-align: right;\n",
       "    }\n",
       "</style>\n",
       "<table border=\"1\" class=\"dataframe\">\n",
       "  <thead>\n",
       "    <tr style=\"text-align: right;\">\n",
       "      <th></th>\n",
       "      <th>orderNumber</th>\n",
       "      <th>cityFrom</th>\n",
       "      <th>cityTo</th>\n",
       "      <th>orderDate</th>\n",
       "      <th>weight</th>\n",
       "      <th>status</th>\n",
       "      <th>weight_num</th>\n",
       "    </tr>\n",
       "  </thead>\n",
       "  <tbody>\n",
       "    <tr>\n",
       "      <th>29390</th>\n",
       "      <td>1326811163</td>\n",
       "      <td>Рыльск</td>\n",
       "      <td>Березовский</td>\n",
       "      <td>2022-04-02</td>\n",
       "      <td>380,5</td>\n",
       "      <td>Вручен</td>\n",
       "      <td>380.5</td>\n",
       "    </tr>\n",
       "  </tbody>\n",
       "</table>\n",
       "</div>"
      ],
      "text/plain": [
       "       orderNumber cityFrom       cityTo   orderDate weight  status  \\\n",
       "29390   1326811163   Рыльск  Березовский  2022-04-02  380,5  Вручен   \n",
       "\n",
       "       weight_num  \n",
       "29390       380.5  "
      ]
     },
     "execution_count": 8,
     "metadata": {},
     "output_type": "execute_result"
    }
   ],
   "source": [
    "df_filtered[df_filtered.weight_num == 380.5]"
   ]
  },
  {
   "cell_type": "code",
   "execution_count": 9,
   "id": "4eb1dd45",
   "metadata": {},
   "outputs": [
    {
     "data": {
      "text/plain": [
       "10"
      ]
     },
     "execution_count": 9,
     "metadata": {},
     "output_type": "execute_result"
    }
   ],
   "source": [
    "len(set(df_filtered.cityFrom))"
   ]
  },
  {
   "cell_type": "code",
   "execution_count": 10,
   "id": "78e3881f",
   "metadata": {
    "scrolled": true
   },
   "outputs": [
    {
     "data": {
      "text/plain": [
       "Клинцы        877\n",
       "Россошь       416\n",
       "Новозыбков    406\n",
       "Джанкой       288\n",
       "Рыльск        146\n",
       "Унеча         116\n",
       "Климово        84\n",
       "Богучар        68\n",
       "Покровское     14\n",
       "Армянск        14\n",
       "Name: cityFrom, dtype: int64"
      ]
     },
     "execution_count": 10,
     "metadata": {},
     "output_type": "execute_result"
    }
   ],
   "source": [
    "df_filtered.cityFrom.value_counts()"
   ]
  },
  {
   "cell_type": "code",
   "execution_count": 11,
   "id": "4e110e05",
   "metadata": {},
   "outputs": [
    {
     "data": {
      "text/plain": [
       "orderDate\n",
       "2022-02-21    120.700\n",
       "2022-02-22     74.830\n",
       "2022-02-23     23.540\n",
       "2022-02-24      1.100\n",
       "2022-02-25    210.005\n",
       "               ...   \n",
       "2022-05-16    505.490\n",
       "2022-05-17    178.566\n",
       "2022-05-18    110.200\n",
       "2022-05-19    111.253\n",
       "2022-05-20    284.950\n",
       "Name: weight_num, Length: 88, dtype: float64"
      ]
     },
     "execution_count": 11,
     "metadata": {},
     "output_type": "execute_result"
    }
   ],
   "source": [
    "data = df_filtered.groupby('orderDate').weight_num.sum()\n",
    "data.index = pd.to_datetime(data.index)\n",
    "data"
   ]
  },
  {
   "cell_type": "code",
   "execution_count": 12,
   "id": "8414d9e6",
   "metadata": {},
   "outputs": [
    {
     "data": {
      "image/png": "[encoded data removed]",
      "text/plain": [
       "<Figure size 1440x1440 with 1 Axes>"
      ]
     },
     "metadata": {
      "needs_background": "light"
     },
     "output_type": "display_data"
    }
   ],
   "source": [
    "plt.figure(figsize=(20, 20))\n",
    "calmap.yearplot(data, year=2022)\n",
    "#cmap='YlGn', fillcolor='grey'\n",
    "plt.show()"
   ]
  },
  {
   "cell_type": "code",
   "execution_count": 13,
   "id": "850ef7c6",
   "metadata": {},
   "outputs": [
    {
     "name": "stderr",
     "output_type": "stream",
     "text": [
      "/var/folders/p2/tgvyp6f51vjb5bfrp45srwk00000gp/T/ipykernel_44184/229552528.py:1: SettingWithCopyWarning: \n",
      "A value is trying to be set on a copy of a slice from a DataFrame.\n",
      "Try using .loc[row_indexer,col_indexer] = value instead\n",
      "\n",
      "See the caveats in the documentation: https://pandas.pydata.org/pandas-docs/stable/user_guide/indexing.html#returning-a-view-versus-a-copy\n",
      "  df_filtered['day_of_week'] = pd.to_datetime(df_filtered['orderDate']).dt.day_name()\n"
     ]
    },
    {
     "data": {
      "text/plain": [
       "<AxesSubplot:xlabel='day_of_week', ylabel='Count'>"
      ]
     },
     "execution_count": 13,
     "metadata": {},
     "output_type": "execute_result"
    },
    {
     "data": {
      "image/png": "[encoded data removed]",
      "text/plain": [
       "<Figure size 504x504 with 1 Axes>"
      ]
     },
     "metadata": {
      "needs_background": "light"
     },
     "output_type": "display_data"
    }
   ],
   "source": [
    "df_filtered['day_of_week'] = pd.to_datetime(df_filtered['orderDate']).dt.day_name()\n",
    "\n",
    "plt.figure(figsize=(7, 7))\n",
    "sns.histplot(df_filtered['day_of_week'])"
   ]
  }
 ],
 "metadata": {
  "kernelspec": {
   "display_name": "Python 3 (ipykernel)",
   "language": "python",
   "name": "python3"
  },
  "language_info": {
   "codemirror_mode": {
    "name": "ipython",
    "version": 3
   },
   "file_extension": ".py",
   "mimetype": "text/x-python",
   "name": "python",
   "nbconvert_exporter": "python",
   "pygments_lexer": "ipython3",
   "version": "3.9.7"
  }
 },
 "nbformat": 4,
 "nbformat_minor": 5
}
